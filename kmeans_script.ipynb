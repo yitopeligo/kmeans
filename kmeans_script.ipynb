{
 "cells": [
  {
   "cell_type": "code",
   "execution_count": 9,
   "metadata": {},
   "outputs": [],
   "source": [
    "import numpy as np\n",
    "import pandas as pd\n",
    "from math import sqrt\n",
    "import csv\n",
    "import os"
   ]
  },
  {
   "cell_type": "code",
   "execution_count": 2,
   "metadata": {},
   "outputs": [],
   "source": [
    "data_file = \"Example.tsv\"\n",
    "k = 3\n",
    "max_iter = 100\n",
    "threshold = 0.5\n",
    "centroids = {} "
   ]
  },
  {
   "cell_type": "code",
   "execution_count": 3,
   "metadata": {},
   "outputs": [
    {
     "name": "stdout",
     "output_type": "stream",
     "text": [
      "400\n"
     ]
    }
   ],
   "source": [
    "df = pd.read_csv(data_file, sep='\\t', header=None)\n",
    "\n",
    "#No labels will be attached so take just data columns\n",
    "dropped = df[[1,2]] \n",
    "\n",
    "X = dropped.values.tolist() \n",
    "\n",
    "print(len(X))"
   ]
  },
  {
   "cell_type": "code",
   "execution_count": 4,
   "metadata": {},
   "outputs": [],
   "source": [
    "#Euclidean distance\n",
    "def distance(feat_one, feat_two):\n",
    "    squared_distance = 0\n",
    "\n",
    "    for i in range(len(feat_one)):\n",
    "        squared_distance += (feat_one[i] - feat_two[i])**2\n",
    "\n",
    "    return sqrt(squared_distance);"
   ]
  },
  {
   "cell_type": "code",
   "execution_count": 5,
   "metadata": {},
   "outputs": [],
   "source": [
    "for i in range(k):\n",
    "    centroids[i] = X[i]\n",
    "\n",
    "centroid_points = []\n",
    "centroid_points.append([centroids[i] for i in range(k)])\n",
    "\n",
    "errors = []\n",
    "\n",
    "for epoch in range(max_iter):\n",
    "    classes = {}\n",
    "    for i in range(k):\n",
    "        classes[i] = [] #K clusters initialization\n",
    "\n",
    "    #Clustering the points based on distance function to centroids\n",
    "    for feature in X:\n",
    "        distances = [distance(feature, centroids[centroid]) for centroid in centroids]\n",
    "        classification = distances.index(min(distances))\n",
    "        classes[classification].append(feature)\n",
    "\n",
    "    error = 0\n",
    "    \n",
    "    #Cost(J) calculation (intra-cluster distances)\n",
    "    for j in classes.keys():\n",
    "        for point in classes[j]:\n",
    "            diff = distance(point, centroids[j])\n",
    "            error += diff * diff \n",
    "    \n",
    "    errors.append(error)\n",
    "    \n",
    "    #Terminate\n",
    "    if epoch > 0:\n",
    "        if (errors[epoch - 1] - error) < threshold:\n",
    "            break\n",
    "\n",
    "    #Recalculation of centroids\n",
    "    for classification in classes:\n",
    "        centroids[classification] = np.average(classes[classification], axis = 0)\n",
    "\n",
    "    centroid_points.append([centroids[i] for i in range(3)])"
   ]
  },
  {
   "cell_type": "code",
   "execution_count": 6,
   "metadata": {},
   "outputs": [
    {
     "name": "stdout",
     "output_type": "stream",
     "text": [
      "[array([4.33965128, 2.21092625]), array([-2.09641599,  0.39852832]), array([ 2.91076041, -4.46278297])]\n"
     ]
    }
   ],
   "source": [
    "print(centroid_points[-1])"
   ]
  },
  {
   "cell_type": "code",
   "execution_count": 12,
   "metadata": {},
   "outputs": [],
   "source": [
    "#Output the Errors(Progress) and Centroids (Proto) as TSV file\n",
    "name = data_file.split('.')[0]\n",
    "\n",
    "output_path = \"\"\n",
    "\n",
    "out_proto = name + \"-Proto.tsv\"\n",
    "out_progr = name + \"-Progr.tsv\"\n",
    "\n",
    "with open(os.path.join(output_path, out_proto), mode='w', newline='') as file:\n",
    "    out = csv.writer(file, delimiter='\\t')\n",
    "    \n",
    "    for element in centroid_points:\n",
    "        out.writerow([','.join([str(elem) for elem in element[0]]), ','.join([str(elem) for elem in element[1]]), ','.join([str(elem) for elem in element[2]])])\n",
    "\n",
    "        \n",
    "with open(os.path.join(output_path, out_progr), mode='w', newline='') as file:\n",
    "    out = csv.writer(file, delimiter='\\t')\n",
    "\n",
    "    for elem in errors:\n",
    "        out.writerow([elem])"
   ]
  }
 ],
 "metadata": {
  "kernelspec": {
   "display_name": "Python 3",
   "language": "python",
   "name": "python3"
  },
  "language_info": {
   "codemirror_mode": {
    "name": "ipython",
    "version": 3
   },
   "file_extension": ".py",
   "mimetype": "text/x-python",
   "name": "python",
   "nbconvert_exporter": "python",
   "pygments_lexer": "ipython3",
   "version": "3.6.9"
  }
 },
 "nbformat": 4,
 "nbformat_minor": 2
}
